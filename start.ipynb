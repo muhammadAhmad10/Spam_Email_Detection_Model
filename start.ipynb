{
 "cells": [
  {
   "cell_type": "code",
   "execution_count": 2,
   "metadata": {},
   "outputs": [],
   "source": [
    "#Reading data from csv file and displaying first 5 rows of the data\n",
    "import pandas as pd\n",
    "\n",
    "data = pd.read_csv('housing.csv')\n",
    "# data.head()"
   ]
  },
  {
   "cell_type": "code",
   "execution_count": 9,
   "metadata": {},
   "outputs": [
    {
     "data": {
      "text/html": [
       "<div>\n",
       "<style scoped>\n",
       "    .dataframe tbody tr th:only-of-type {\n",
       "        vertical-align: middle;\n",
       "    }\n",
       "\n",
       "    .dataframe tbody tr th {\n",
       "        vertical-align: top;\n",
       "    }\n",
       "\n",
       "    .dataframe thead th {\n",
       "        text-align: right;\n",
       "    }\n",
       "</style>\n",
       "<table border=\"1\" class=\"dataframe\">\n",
       "  <thead>\n",
       "    <tr style=\"text-align: right;\">\n",
       "      <th></th>\n",
       "      <th>longitude</th>\n",
       "      <th>latitude</th>\n",
       "      <th>housing_median_age</th>\n",
       "      <th>total_rooms</th>\n",
       "      <th>total_bedrooms</th>\n",
       "      <th>population</th>\n",
       "      <th>households</th>\n",
       "      <th>median_income</th>\n",
       "      <th>median_house_value</th>\n",
       "      <th>ocean_proximity</th>\n",
       "    </tr>\n",
       "  </thead>\n",
       "  <tbody>\n",
       "    <tr>\n",
       "      <th>0</th>\n",
       "      <td>-122.23</td>\n",
       "      <td>37.88</td>\n",
       "      <td>41.0</td>\n",
       "      <td>880.0</td>\n",
       "      <td>129.0</td>\n",
       "      <td>322.0</td>\n",
       "      <td>126.0</td>\n",
       "      <td>8.3252</td>\n",
       "      <td>452600.0</td>\n",
       "      <td>2</td>\n",
       "    </tr>\n",
       "    <tr>\n",
       "      <th>1</th>\n",
       "      <td>-122.22</td>\n",
       "      <td>37.86</td>\n",
       "      <td>21.0</td>\n",
       "      <td>7099.0</td>\n",
       "      <td>1106.0</td>\n",
       "      <td>2401.0</td>\n",
       "      <td>1138.0</td>\n",
       "      <td>8.3014</td>\n",
       "      <td>358500.0</td>\n",
       "      <td>2</td>\n",
       "    </tr>\n",
       "    <tr>\n",
       "      <th>2</th>\n",
       "      <td>-122.24</td>\n",
       "      <td>37.85</td>\n",
       "      <td>52.0</td>\n",
       "      <td>1467.0</td>\n",
       "      <td>190.0</td>\n",
       "      <td>496.0</td>\n",
       "      <td>177.0</td>\n",
       "      <td>7.2574</td>\n",
       "      <td>352100.0</td>\n",
       "      <td>2</td>\n",
       "    </tr>\n",
       "    <tr>\n",
       "      <th>3</th>\n",
       "      <td>-122.25</td>\n",
       "      <td>37.85</td>\n",
       "      <td>52.0</td>\n",
       "      <td>1274.0</td>\n",
       "      <td>235.0</td>\n",
       "      <td>558.0</td>\n",
       "      <td>219.0</td>\n",
       "      <td>5.6431</td>\n",
       "      <td>341300.0</td>\n",
       "      <td>2</td>\n",
       "    </tr>\n",
       "    <tr>\n",
       "      <th>4</th>\n",
       "      <td>-122.25</td>\n",
       "      <td>37.85</td>\n",
       "      <td>52.0</td>\n",
       "      <td>1627.0</td>\n",
       "      <td>280.0</td>\n",
       "      <td>565.0</td>\n",
       "      <td>259.0</td>\n",
       "      <td>3.8462</td>\n",
       "      <td>342200.0</td>\n",
       "      <td>2</td>\n",
       "    </tr>\n",
       "  </tbody>\n",
       "</table>\n",
       "</div>"
      ],
      "text/plain": [
       "   longitude  latitude  housing_median_age  total_rooms  total_bedrooms  \\\n",
       "0    -122.23     37.88                41.0        880.0           129.0   \n",
       "1    -122.22     37.86                21.0       7099.0          1106.0   \n",
       "2    -122.24     37.85                52.0       1467.0           190.0   \n",
       "3    -122.25     37.85                52.0       1274.0           235.0   \n",
       "4    -122.25     37.85                52.0       1627.0           280.0   \n",
       "\n",
       "   population  households  median_income  median_house_value  ocean_proximity  \n",
       "0       322.0       126.0         8.3252            452600.0                2  \n",
       "1      2401.0      1138.0         8.3014            358500.0                2  \n",
       "2       496.0       177.0         7.2574            352100.0                2  \n",
       "3       558.0       219.0         5.6431            341300.0                2  \n",
       "4       565.0       259.0         3.8462            342200.0                2  "
      ]
     },
     "execution_count": 9,
     "metadata": {},
     "output_type": "execute_result"
    }
   ],
   "source": [
    "#Preprocessing data \n",
    "data['ocean_proximity'] = data['ocean_proximity'].replace({\n",
    "    'INLAND': 0,\n",
    "    'ISLAND': 1,\n",
    "    'NEAR BAY': 2,\n",
    "    'NEAR OCEAN': 3,\n",
    "    '<1H OCEAN': 4\n",
    "})\n",
    "# print(data['ocean_proximity'].unique())\n",
    "bedrooms = data['total_bedrooms'].mean()\n",
    "bed = int(bedrooms)\n",
    "data.fillna(bed,inplace=True)\n",
    "data.head()"
   ]
  },
  {
   "cell_type": "code",
   "execution_count": 13,
   "metadata": {},
   "outputs": [],
   "source": [
    "#Splitting data into input and output\n",
    "\n",
    "X = data.drop('median_house_value',axis=1)\n",
    "#feature name \n",
    "feature_names = ['longitude', 'latitude', 'housing_median_age', 'total_rooms', 'total_bedrooms', 'population', 'households', 'median_income', 'ocean_proximity']\n",
    "y = data['median_house_value']\n",
    "# X.columns"
   ]
  },
  {
   "cell_type": "code",
   "execution_count": 11,
   "metadata": {},
   "outputs": [
    {
     "data": {
      "text/plain": [
       "((16512, 9), (16512,), (4128, 9), (4128,))"
      ]
     },
     "execution_count": 11,
     "metadata": {},
     "output_type": "execute_result"
    }
   ],
   "source": [
    "#Splitting data into training and testing data using train_test_split\n",
    "from sklearn.model_selection import train_test_split\n",
    "X_train,  X_test,y_train, y_test = train_test_split(X,y,test_size=0.2,random_state=42)\n",
    "X_train.shape, y_train.shape, X_test.shape, y_test.shape"
   ]
  },
  {
   "cell_type": "code",
   "execution_count": 113,
   "metadata": {},
   "outputs": [
    {
     "data": {
      "text/plain": [
       "((18576, 9), (18576,), (2064, 9), (2064,))"
      ]
     },
     "execution_count": 113,
     "metadata": {},
     "output_type": "execute_result"
    }
   ],
   "source": [
    "#splitting data into train test using KFold cross validation\n",
    "from sklearn.model_selection import KFold\n",
    "\n",
    "kf = KFold(n_splits=10,shuffle=True,random_state=42)\n",
    "for train_index, test_index in kf.split(X):\n",
    "    X_train, X_test = X.iloc[train_index], X.iloc[test_index]\n",
    "    y_train, y_test = y[train_index], y[test_index]\n",
    "\n",
    "X_train.shape, y_train.shape, X_test.shape, y_test.shape\n"
   ]
  },
  {
   "cell_type": "code",
   "execution_count": 17,
   "metadata": {},
   "outputs": [
    {
     "name": "stdout",
     "output_type": "stream",
     "text": [
      "Mean Squared Error: 4966764349.221943\n",
      "[413061.49637018]\n"
     ]
    }
   ],
   "source": [
    "#apply linear regression model\n",
    "from sklearn.linear_model import LinearRegression\n",
    "from sklearn.metrics import mean_squared_error\n",
    "\n",
    "# Create and fit the linear regression model\n",
    "model = LinearRegression()\n",
    "model.fit(X_train, y_train)\n",
    "\n",
    "# Predicting the output\n",
    "y_pred = model.predict(X_test)\n",
    "\n",
    "# Calculate mean squared error (MSE)\n",
    "mse = mean_squared_error(y_test, y_pred)\n",
    "print(\"Mean Squared Error:\", mse)\n",
    "\n",
    "# Saving the model\n",
    "import pickle\n",
    "pickle.dump(model, open('linear_regression_model.pkl', 'wb'))\n",
    "\n",
    "# Loading the model\n",
    "model = pickle.load(open('linear_regression_model.pkl', 'rb'))\n",
    "\n",
    "#data to predict \n",
    "new_data = pd.DataFrame([[-122.23, 37.88, 41.0, 880.0, 129.0, 322.0, 126.0, 8.3252, 2]], columns=feature_names)\n",
    "\n",
    "# Predicting the output\n",
    "print(model.predict(new_data))\n"
   ]
  },
  {
   "cell_type": "code",
   "execution_count": 22,
   "metadata": {},
   "outputs": [
    {
     "name": "stdout",
     "output_type": "stream",
     "text": [
      "Mean Squared Error: 4878626268.260175\n",
      "predicted price:  [358500.]\n"
     ]
    }
   ],
   "source": [
    "#applying decision tree regressor\n",
    "from sklearn.tree import DecisionTreeRegressor\n",
    "from sklearn.metrics import mean_squared_error\n",
    "\n",
    "# Create and fit the decision tree regression model\n",
    "model = DecisionTreeRegressor()\n",
    "model.fit(X_train, y_train)\n",
    "\n",
    "# Predicting the output\n",
    "y_pred = model.predict(X_test)\n",
    "\n",
    "# Calculate mean squared error (MSE)\n",
    "mse = mean_squared_error(y_test, y_pred)\n",
    "print(\"Mean Squared Error:\", mse)\n",
    "\n",
    "# Saving the model\n",
    "import pickle\n",
    "pickle.dump(model, open('decision_tree_regression_model.pkl', 'wb'))\n",
    "\n",
    "# Loading the model\n",
    "model = pickle.load(open('decision_tree_regression_model.pkl', 'rb'))\n",
    "\n",
    "#data to predict\n",
    "new_data = pd.DataFrame([[-122.22,37.86,21.0,7099.0,1106.0,2401.0,1138.0,8.3014, 2]], columns=feature_names)\n",
    "\n",
    "# Predicting the output\n",
    "print('predicted price: ',model.predict(new_data))\n"
   ]
  },
  {
   "cell_type": "code",
   "execution_count": 23,
   "metadata": {},
   "outputs": [
    {
     "name": "stdout",
     "output_type": "stream",
     "text": [
      "Mean Squared Error: 2374804222.1322384\n",
      "predicted price:  [377727.]\n"
     ]
    }
   ],
   "source": [
    "#applying random forest regressor\n",
    "from sklearn.ensemble import RandomForestRegressor\n",
    "from sklearn.metrics import mean_squared_error\n",
    "\n",
    "# Create and fit the random forest regression model\n",
    "model = RandomForestRegressor()\n",
    "model.fit(X_train, y_train)\n",
    "\n",
    "# Predicting the output\n",
    "y_pred = model.predict(X_test)\n",
    "\n",
    "# Calculate mean squared error (MSE)\n",
    "mse = mean_squared_error(y_test, y_pred)\n",
    "print(\"Mean Squared Error:\", mse)\n",
    "\n",
    "# Saving the model\n",
    "import pickle\n",
    "pickle.dump(model, open('random_forest_regression_model.pkl', 'wb'))\n",
    "\n",
    "# Loading the model\n",
    "model = pickle.load(open('random_forest_regression_model.pkl', 'rb'))\n",
    "\n",
    "#data to predict\n",
    "new_data = pd.DataFrame([[-122.22,37.86,21.0,7099.0,1106.0,2401.0,1138.0,8.3014, 2]], columns=feature_names)\n",
    "\n",
    "# Predicting the output\n",
    "print('predicted price: ',model.predict(new_data))\n"
   ]
  },
  {
   "cell_type": "code",
   "execution_count": 34,
   "metadata": {},
   "outputs": [
    {
     "name": "stdout",
     "output_type": "stream",
     "text": [
      "Mean Squared Error: 13741698441.391218\n",
      "predicted price:  [180562.38487727]\n"
     ]
    }
   ],
   "source": [
    "#applying support vector regressor\n",
    "from sklearn.svm import SVR\n",
    "from sklearn.metrics import mean_squared_error\n",
    "\n",
    "# Create and fit the support vector regression model\n",
    "model = SVR()\n",
    "model.fit(X_train, y_train)\n",
    "\n",
    "# Predicting the output\n",
    "y_pred = model.predict(X_test)\n",
    "\n",
    "# Calculate mean squared error (MSE)\n",
    "mse = mean_squared_error(y_test, y_pred)\n",
    "print(\"Mean Squared Error:\", mse)\n",
    "\n",
    "# Saving the model\n",
    "import pickle\n",
    "pickle.dump(model, open('support_vector_regression_model.pkl', 'wb'))\n",
    "\n",
    "# Loading the model\n",
    "model = pickle.load(open('support_vector_regression_model.pkl', 'rb'))\n",
    "\n",
    "#data to predict\n",
    "new_data = pd.DataFrame([[-122.22,37.86,21.0,7099.0,1106.0,2401.0,1138.0,8.3014, 2]], columns=feature_names)\n",
    "\n",
    "# Predicting the output\n",
    "print('predicted price: ',model.predict(new_data))\n"
   ]
  },
  {
   "cell_type": "code",
   "execution_count": 33,
   "metadata": {},
   "outputs": [
    {
     "name": "stdout",
     "output_type": "stream",
     "text": [
      "Mean Squared Error: 10146836404.171522\n",
      "predicted price:  [408180.4]\n"
     ]
    }
   ],
   "source": [
    "#applying KNN regressor\n",
    "from sklearn.neighbors import KNeighborsRegressor\n",
    "from sklearn.metrics import mean_squared_error\n",
    "\n",
    "# Create and fit the KNN regression model\n",
    "model = KNeighborsRegressor()\n",
    "model.fit(X_train, y_train)\n",
    "\n",
    "# Predicting the output\n",
    "y_pred = model.predict(X_test)\n",
    "\n",
    "# Calculate mean squared error (MSE)\n",
    "mse = mean_squared_error(y_test, y_pred)\n",
    "print(\"Mean Squared Error:\", mse)\n",
    "\n",
    "# Saving the model\n",
    "import pickle\n",
    "pickle.dump(model, open('knn_regression_model.pkl', 'wb'))\n",
    "\n",
    "# Loading the model\n",
    "model = pickle.load(open('knn_regression_model.pkl', 'rb'))\n",
    "\n",
    "#data to predict\n",
    "new_data = pd.DataFrame([[-122.22,37.86,21.0,7099.0,1106.0,2401.0,1138.0,8.3014, 2]], columns=feature_names)\n",
    "\n",
    "# Predicting the output\n",
    "print('predicted price: ',model.predict(new_data))"
   ]
  },
  {
   "cell_type": "code",
   "execution_count": null,
   "metadata": {},
   "outputs": [],
   "source": [
    "#applying polynomial regressor\n",
    "from sklearn.linear_model import  PoissonRegressor\n",
    "from sklearn.metrics import mean_squared_error\n",
    "\n",
    "# Create and fit the polynomial regression model\n",
    "model = PoissonRegressor()\n",
    "model.fit(X_train, y_train)\n",
    "\n",
    "# Predicting the output\n",
    "y_pred = model.predict(X_test)\n",
    "\n",
    "# Calculate mean squared error (MSE)\n",
    "mse = mean_squared_error(y_test, y_pred)\n",
    "print(\"Mean Squared Error:\", mse)\n",
    "\n",
    "# Saving the model\n",
    "import pickle\n",
    "pickle.dump(model, open('polynomial_regression_model.pkl', 'wb'))\n",
    "\n",
    "# Loading the model\n",
    "model = pickle.load(open('polynomial_regression_model.pkl', 'rb'))\n",
    "\n",
    "#data to predict\n",
    "new_data = pd.DataFrame([[-122.22,37.86,21.0,7099.0,1106.0,2401.0,1138.0,8.3014, 2]], columns=feature_names)\n",
    "\n",
    "# Predicting the output\n",
    "print('predicted price: ',model.predict(new_data))"
   ]
  },
  {
   "cell_type": "code",
   "execution_count": 27,
   "metadata": {},
   "outputs": [
    {
     "name": "stdout",
     "output_type": "stream",
     "text": [
      "Mean Squared Error: 4966745753.713151\n",
      "predicted price:  [413057.89460897]\n"
     ]
    }
   ],
   "source": [
    "#applying Ridge regressor\n",
    "from sklearn.linear_model import Ridge\n",
    "from sklearn.metrics import mean_squared_error\n",
    "\n",
    "# Create and fit the Ridge regression model\n",
    "model = Ridge()\n",
    "\n",
    "model.fit(X_train, y_train)\n",
    "\n",
    "# Predicting the output\n",
    "y_pred = model.predict(X_test)\n",
    "\n",
    "# Calculate mean squared error (MSE)\n",
    "mse = mean_squared_error(y_test, y_pred)\n",
    "print(\"Mean Squared Error:\", mse)\n",
    "\n",
    "# Saving the model\n",
    "import pickle\n",
    "pickle.dump(model, open('ridge_regression_model.pkl', 'wb'))\n",
    "\n",
    "# Loading the model\n",
    "model = pickle.load(open('ridge_regression_model.pkl', 'rb'))\n",
    "\n",
    "#data to predict\n",
    "new_data = pd.DataFrame([[-122.22,37.86,21.0,7099.0,1106.0,2401.0,1138.0,8.3014, 2]], columns=feature_names)\n",
    "\n",
    "# Predicting the output\n",
    "print('predicted price: ',model.predict(new_data))\n"
   ]
  },
  {
   "cell_type": "code",
   "execution_count": 26,
   "metadata": {},
   "outputs": [
    {
     "name": "stdout",
     "output_type": "stream",
     "text": [
      "Mean Squared Error: 4966755679.213585\n",
      "predicted price:  [413060.04292171]\n"
     ]
    }
   ],
   "source": [
    "#applying Lasso regressor\n",
    "from sklearn.linear_model import Lasso\n",
    "from sklearn.metrics import mean_squared_error\n",
    "\n",
    "# Create and fit the Lasso regression model\n",
    "model = Lasso()\n",
    "\n",
    "model.fit(X_train, y_train)\n",
    "\n",
    "# Predicting the output\n",
    "y_pred = model.predict(X_test)\n",
    "\n",
    "# Calculate mean squared error (MSE)\n",
    "mse = mean_squared_error(y_test, y_pred)\n",
    "print(\"Mean Squared Error:\", mse)\n",
    "\n",
    "# Saving the model\n",
    "import pickle\n",
    "pickle.dump(model, open('lasso_regression_model.pkl', 'wb'))\n",
    "\n",
    "# Loading the model\n",
    "model = pickle.load(open('lasso_regression_model.pkl', 'rb'))\n",
    "\n",
    "#data to predict\n",
    "new_data = pd.DataFrame([[-122.22,37.86,21.0,7099.0,1106.0,2401.0,1138.0,8.3014, 2]], columns=feature_names)\n",
    "\n",
    "# Predicting the output\n",
    "print('predicted price: ',model.predict(new_data))\n"
   ]
  },
  {
   "cell_type": "code",
   "execution_count": 25,
   "metadata": {},
   "outputs": [
    {
     "name": "stdout",
     "output_type": "stream",
     "text": [
      "Mean Squared Error: 5116110547.726501\n",
      "predicted price:  [398434.85385292]\n"
     ]
    }
   ],
   "source": [
    "#applying ElasticNet regressor\n",
    "from sklearn.linear_model import ElasticNet\n",
    "from sklearn.metrics import mean_squared_error\n",
    "\n",
    "# Create and fit the ElasticNet regression model\n",
    "model = ElasticNet()\n",
    "\n",
    "model.fit(X_train, y_train)\n",
    "\n",
    "# Predicting the output\n",
    "y_pred = model.predict(X_test)\n",
    "\n",
    "# Calculate mean squared error (MSE)\n",
    "mse = mean_squared_error(y_test, y_pred)\n",
    "print(\"Mean Squared Error:\", mse)\n",
    "\n",
    "# Saving the model\n",
    "import pickle\n",
    "pickle.dump(model, open('elasticnet_regression_model.pkl', 'wb'))\n",
    "\n",
    "# Loading the model\n",
    "model = pickle.load(open('elasticnet_regression_model.pkl', 'rb'))\n",
    "\n",
    "#data to predict\n",
    "new_data = pd.DataFrame([[-122.22,37.86,21.0,7099.0,1106.0,2401.0,1138.0,8.3014, 2]], columns=feature_names)\n",
    "\n",
    "# Predicting the output\n",
    "print('predicted price: ',model.predict(new_data))\n"
   ]
  },
  {
   "cell_type": "code",
   "execution_count": 24,
   "metadata": {},
   "outputs": [
    {
     "name": "stdout",
     "output_type": "stream",
     "text": [
      "Mean Squared Error: 3244452964.9279847\n",
      "predicted price:  [417067.47377456]\n"
     ]
    }
   ],
   "source": [
    "#applying gradient boosting regressor\n",
    "from sklearn.ensemble import GradientBoostingRegressor\n",
    "from sklearn.metrics import mean_squared_error\n",
    "\n",
    "# Create and fit the Gradient Boosting regression model\n",
    "model = GradientBoostingRegressor()\n",
    "\n",
    "model.fit(X_train, y_train)\n",
    "\n",
    "# Predicting the output\n",
    "y_pred = model.predict(X_test)\n",
    "\n",
    "# Calculate mean squared error (MSE)\n",
    "mse = mean_squared_error(y_test, y_pred)\n",
    "print(\"Mean Squared Error:\", mse)\n",
    "\n",
    "# Saving the model\n",
    "import pickle\n",
    "pickle.dump(model, open('gradientboosting_regression_model.pkl', 'wb'))\n",
    "\n",
    "# Loading the model\n",
    "model = pickle.load(open('gradientboosting_regression_model.pkl', 'rb'))\n",
    "\n",
    "#data to predict\n",
    "new_data = pd.DataFrame([[-122.22,37.86,21.0,7099.0,1106.0,2401.0,1138.0,8.3014, 2]], columns=feature_names)\n",
    "\n",
    "# Predicting the output\n",
    "print('predicted price: ',model.predict(new_data))"
   ]
  }
 ],
 "metadata": {
  "kernelspec": {
   "display_name": "base",
   "language": "python",
   "name": "python3"
  },
  "language_info": {
   "codemirror_mode": {
    "name": "ipython",
    "version": 3
   },
   "file_extension": ".py",
   "mimetype": "text/x-python",
   "name": "python",
   "nbconvert_exporter": "python",
   "pygments_lexer": "ipython3",
   "version": "3.9.13"
  },
  "orig_nbformat": 4
 },
 "nbformat": 4,
 "nbformat_minor": 2
}
